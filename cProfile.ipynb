{
 "cells": [
  {
   "cell_type": "code",
   "execution_count": 12,
   "metadata": {},
   "outputs": [
    {
     "name": "stdout",
     "output_type": "stream",
     "text": [
      "Sat Apr 20 19:08:43 2024    output.prof\n",
      "\n",
      "         1000038 function calls in 0.361 seconds\n",
      "\n",
      "   Ordered by: cumulative time\n",
      "   List reduced from 18 to 10 due to restriction <10>\n",
      "\n",
      "   ncalls  tottime  percall  cumtime  percall filename:lineno(function)\n",
      "        2    0.000    0.000    0.540    0.270 C:\\Users\\user\\AppData\\Roaming\\Python\\Python310\\site-packages\\IPython\\core\\interactiveshell.py:3490(run_code)\n",
      "        2    0.000    0.000    0.540    0.270 {built-in method builtins.exec}\n",
      "  1000000    0.360    0.000    0.360    0.000 C:\\Users\\user\\AppData\\Local\\Temp\\ipykernel_24636\\438736628.py:4(test_function)\n",
      "        2    0.000    0.000    0.000    0.000 c:\\Users\\user\\AppData\\Local\\Programs\\Python\\Python310\\lib\\codeop.py:117(__call__)\n",
      "        2    0.000    0.000    0.000    0.000 {built-in method builtins.compile}\n",
      "        2    0.000    0.000    0.000    0.000 c:\\Users\\user\\AppData\\Local\\Programs\\Python\\Python310\\lib\\contextlib.py:279(helper)\n",
      "        2    0.000    0.000    0.000    0.000 c:\\Users\\user\\AppData\\Local\\Programs\\Python\\Python310\\lib\\contextlib.py:139(__exit__)\n",
      "        4    0.000    0.000    0.000    0.000 {built-in method builtins.next}\n",
      "        2    0.000    0.000    0.000    0.000 c:\\Users\\user\\AppData\\Local\\Programs\\Python\\Python310\\lib\\contextlib.py:130(__enter__)\n",
      "        2    0.000    0.000    0.000    0.000 c:\\Users\\user\\AppData\\Local\\Programs\\Python\\Python310\\lib\\contextlib.py:102(__init__)\n",
      "\n",
      "\n",
      "         1000038 function calls in 0.361 seconds\n",
      "\n",
      "   Ordered by: standard name\n",
      "\n",
      "   ncalls  tottime  percall  cumtime  percall filename:lineno(function)\n",
      "        1    0.000    0.000    0.000    0.000 438736628.py:1(<module>)\n",
      "  1000000    0.360    0.000    0.360    0.000 438736628.py:4(test_function)\n",
      "        2    0.000    0.000    0.000    0.000 codeop.py:117(__call__)\n",
      "        4    0.000    0.000    0.000    0.000 compilerop.py:180(extra_flags)\n",
      "        2    0.000    0.000    0.000    0.000 contextlib.py:102(__init__)\n",
      "        2    0.000    0.000    0.000    0.000 contextlib.py:130(__enter__)\n",
      "        2    0.000    0.000    0.000    0.000 contextlib.py:139(__exit__)\n",
      "        2    0.000    0.000    0.000    0.000 contextlib.py:279(helper)\n",
      "        2    0.000    0.000    0.000    0.000 interactiveshell.py:1231(user_global_ns)\n",
      "        2    0.000    0.000    0.000    0.000 interactiveshell.py:3442(compare)\n",
      "        2    0.000    0.000    0.540    0.270 interactiveshell.py:3490(run_code)\n",
      "        2    0.000    0.000    0.000    0.000 traitlets.py:654(get)\n",
      "        2    0.000    0.000    0.000    0.000 traitlets.py:692(__get__)\n",
      "        2    0.000    0.000    0.000    0.000 {built-in method builtins.compile}\n",
      "        2    0.000    0.000    0.540    0.270 {built-in method builtins.exec}\n",
      "        4    0.000    0.000    0.000    0.000 {built-in method builtins.getattr}\n",
      "        4    0.000    0.000    0.000    0.000 {built-in method builtins.next}\n",
      "        1    0.000    0.000    0.000    0.000 {method 'disable' of '_lsprof.Profiler' objects}\n",
      "\n",
      "\n",
      "         1000003 function calls in 0.542 seconds\n",
      "\n",
      "   Ordered by: cumulative time\n",
      "\n",
      "   ncalls  tottime  percall  cumtime  percall filename:lineno(function)\n",
      "        1    0.000    0.000    0.542    0.542 {built-in method builtins.exec}\n",
      "        1    0.175    0.175    0.542    0.542 <string>:1(<module>)\n",
      "  1000000    0.367    0.000    0.367    0.000 438736628.py:4(test_function)\n",
      "        1    0.000    0.000    0.000    0.000 {method 'disable' of '_lsprof.Profiler' objects}\n",
      "\n",
      "\n"
     ]
    },
    {
     "data": {
      "text/plain": [
       "7601.463414634147"
      ]
     },
     "execution_count": 12,
     "metadata": {},
     "output_type": "execute_result"
    }
   ],
   "source": [
    "import cProfile\n",
    "import pstats\n",
    "\n",
    "def test_function():\n",
    "    a = 5\n",
    "    b = 6\n",
    "    c = ((a**6) - 7*b) / 2.05\n",
    "    return c\n",
    "\n",
    "profiler = cProfile.Profile()\n",
    "\n",
    "# Dongu olarak kullanim.W\n",
    "profiler.enable()\n",
    "for _ in range(1000000):\n",
    "    test_function()\n",
    "profiler.disable()\n",
    "\n",
    "# Python kodunu cProfile ile run ederek.\n",
    "cProfile.run(\n",
    "    'for _ in range(1000000): test_function()',\n",
    "    'profile_output.prof'\n",
    ")\n",
    "\n",
    "profiler.dump_stats('output.prof')\n",
    "\n",
    "# pstats kutuphanesi kullanarak.\n",
    "stats = pstats.Stats('output.prof')\n",
    "stats.sort_stats('cumulative')\n",
    "stats.print_stats(10)\n",
    "\n",
    "# cProfile kutuphanesi kullanarak.\n",
    "profiler.create_stats()\n",
    "profiler.print_stats()\n",
    "\n",
    "\n",
    "# Lokal ve global degiskenleri kullanarak.\n",
    "cProfile.runctx(\n",
    "    statement=''\"for _ in range(1000000): test_function()\"'',\n",
    "    globals=globals(),\n",
    "    locals=locals(),\n",
    "    filename=None,\n",
    "    sort='cumulative'\n",
    ")\n",
    "\n",
    "profiler.runcall(test_function)"
   ]
  },
  {
   "cell_type": "code",
   "execution_count": null,
   "metadata": {},
   "outputs": [],
   "source": []
  }
 ],
 "metadata": {
  "kernelspec": {
   "display_name": "Python 3",
   "language": "python",
   "name": "python3"
  },
  "language_info": {
   "codemirror_mode": {
    "name": "ipython",
    "version": 3
   },
   "file_extension": ".py",
   "mimetype": "text/x-python",
   "name": "python",
   "nbconvert_exporter": "python",
   "pygments_lexer": "ipython3",
   "version": "3.10.6"
  }
 },
 "nbformat": 4,
 "nbformat_minor": 2
}
