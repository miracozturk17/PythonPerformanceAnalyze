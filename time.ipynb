{
 "cells": [
  {
   "cell_type": "code",
   "execution_count": 12,
   "metadata": {},
   "outputs": [
    {
     "name": "stdout",
     "output_type": "stream",
     "text": [
      "Islem suresi: 0.0009970664978027344 saniye.\n"
     ]
    }
   ],
   "source": [
    "import time\n",
    "\n",
    "start_time = time.time()\n",
    "\n",
    "def test_function():\n",
    "    '''BU ALANDA TEST ETMEK ISTEDIGINIZ KOD BLOGU YER ALMALI.'''\n",
    "    a=5\n",
    "    b=6\n",
    "    c=((a**98)-755646544*b)/25464561.0546545\n",
    "    return c\n",
    "\n",
    "test_function()\n",
    "\n",
    "end_time = time.time()\n",
    "print(f\"Islem suresi: {end_time - start_time} saniye.\")"
   ]
  },
  {
   "cell_type": "code",
   "execution_count": null,
   "metadata": {},
   "outputs": [],
   "source": []
  }
 ],
 "metadata": {
  "kernelspec": {
   "display_name": "Python 3",
   "language": "python",
   "name": "python3"
  },
  "language_info": {
   "codemirror_mode": {
    "name": "ipython",
    "version": 3
   },
   "file_extension": ".py",
   "mimetype": "text/x-python",
   "name": "python",
   "nbconvert_exporter": "python",
   "pygments_lexer": "ipython3",
   "version": "3.10.6"
  }
 },
 "nbformat": 4,
 "nbformat_minor": 2
}
