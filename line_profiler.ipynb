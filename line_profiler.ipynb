{
 "cells": [
  {
   "cell_type": "code",
   "execution_count": 8,
   "metadata": {},
   "outputs": [
    {
     "name": "stdout",
     "output_type": "stream",
     "text": [
      "Timer unit: 1e-07 s\n",
      "\n",
      "Total time: 0.0759075 s\n",
      "File: C:\\Users\\user\\AppData\\Local\\Temp\\ipykernel_26600\\3869493580.py\n",
      "Function: test_function at line 3\n",
      "\n",
      "Line #      Hits         Time  Per Hit   % Time  Line Contents\n",
      "==============================================================\n",
      "     3                                           def test_function():\n",
      "     4         1      24748.0  24748.0      3.3      a = [1] * (10 ** 6) \n",
      "     5         1     400928.0 400928.0     52.8      b = [2] * (2 * 10 ** 7)\n",
      "     6         1     333335.0 333335.0     43.9      del b\n",
      "     7         1         64.0     64.0      0.0      return a\n",
      "\n"
     ]
    }
   ],
   "source": [
    "from line_profiler import LineProfiler # type: ignore\n",
    "\n",
    "def test_function():\n",
    "    a = [1] * (10 ** 6) \n",
    "    b = [2] * (2 * 10 ** 7)\n",
    "    del b\n",
    "    return a\n",
    "\n",
    "profiler = LineProfiler()\n",
    "profiler.add_function(test_function)\n",
    "profiler.run('test_function()')\n",
    "profiler.print_stats()"
   ]
  },
  {
   "cell_type": "code",
   "execution_count": null,
   "metadata": {},
   "outputs": [],
   "source": []
  }
 ],
 "metadata": {
  "kernelspec": {
   "display_name": "Python 3",
   "language": "python",
   "name": "python3"
  },
  "language_info": {
   "codemirror_mode": {
    "name": "ipython",
    "version": 3
   },
   "file_extension": ".py",
   "mimetype": "text/x-python",
   "name": "python",
   "nbconvert_exporter": "python",
   "pygments_lexer": "ipython3",
   "version": "3.10.6"
  }
 },
 "nbformat": 4,
 "nbformat_minor": 2
}
